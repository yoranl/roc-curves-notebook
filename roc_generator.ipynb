{
  "nbformat": 4,
  "nbformat_minor": 0,
  "metadata": {
    "colab": {
      "name": "roc_generator.ipynb",
      "provenance": []
    },
    "kernelspec": {
      "name": "python3",
      "display_name": "Python 3"
    }
  },
  "cells": [
    {
      "cell_type": "code",
      "metadata": {
        "id": "vs3nS8SCOkY8",
        "colab_type": "code",
        "colab": {}
      },
      "source": [
        "from sklearn.metrics import roc_curve, auc\n",
        "import numpy as np\n",
        "import matplotlib.pyplot as plt"
      ],
      "execution_count": 0,
      "outputs": []
    },
    {
      "cell_type": "code",
      "metadata": {
        "id": "k4ISqUo6OpUT",
        "colab_type": "code",
        "colab": {}
      },
      "source": [
        "y_test = np.genfromtxt('y_test.csv', delimiter=',')\n",
        "y_score = np.genfromtxt('y_score.csv', delimiter=',')"
      ],
      "execution_count": 0,
      "outputs": []
    },
    {
      "cell_type": "code",
      "metadata": {
        "id": "jjsUXuWfOl-B",
        "colab_type": "code",
        "colab": {}
      },
      "source": [
        "fpr, tpr, thresholds = roc_curve(y_test, y_score, pos_label = 2)"
      ],
      "execution_count": 0,
      "outputs": []
    },
    {
      "cell_type": "code",
      "metadata": {
        "id": "NKj2e_iAbDoG",
        "colab_type": "code",
        "colab": {
          "base_uri": "https://localhost:8080/",
          "height": 136
        },
        "outputId": "ce06a603-0e4f-4e38-87d6-98dd3b26cda2"
      },
      "source": [
        "fpr"
      ],
      "execution_count": 4,
      "outputs": [
        {
          "output_type": "execute_result",
          "data": {
            "text/plain": [
              "array([0.        , 0.10344828, 0.17241379, 0.17241379, 0.27586207,\n",
              "       0.34482759, 0.34482759, 0.37931034, 0.4137931 , 0.4137931 ,\n",
              "       0.44827586, 0.44827586, 0.48275862, 0.55172414, 0.55172414,\n",
              "       0.62068966, 0.75862069, 0.79310345, 0.79310345, 0.82758621,\n",
              "       0.82758621, 0.86206897, 0.89655172, 0.89655172, 0.89655172,\n",
              "       0.93103448, 0.93103448, 0.93103448, 0.96551724, 0.96551724,\n",
              "       1.        ])"
            ]
          },
          "metadata": {
            "tags": []
          },
          "execution_count": 4
        }
      ]
    },
    {
      "cell_type": "code",
      "metadata": {
        "id": "pamfZMBsbD7a",
        "colab_type": "code",
        "colab": {
          "base_uri": "https://localhost:8080/",
          "height": 136
        },
        "outputId": "a849b19d-8842-4838-eb9b-9efd385452d2"
      },
      "source": [
        "tpr"
      ],
      "execution_count": 5,
      "outputs": [
        {
          "output_type": "execute_result",
          "data": {
            "text/plain": [
              "array([0.        , 0.03225806, 0.06451613, 0.12903226, 0.12903226,\n",
              "       0.16129032, 0.19354839, 0.19354839, 0.22580645, 0.25806452,\n",
              "       0.32258065, 0.35483871, 0.38709677, 0.38709677, 0.4516129 ,\n",
              "       0.51612903, 0.51612903, 0.5483871 , 0.58064516, 0.61290323,\n",
              "       0.64516129, 0.70967742, 0.70967742, 0.77419355, 0.80645161,\n",
              "       0.80645161, 0.83870968, 0.96774194, 0.96774194, 1.        ,\n",
              "       1.        ])"
            ]
          },
          "metadata": {
            "tags": []
          },
          "execution_count": 5
        }
      ]
    },
    {
      "cell_type": "code",
      "metadata": {
        "id": "UOYn17Y2bHJ_",
        "colab_type": "code",
        "colab": {
          "base_uri": "https://localhost:8080/",
          "height": 68
        },
        "outputId": "4b7c5be8-5a0c-46d7-cce0-1780a5e0c41f"
      },
      "source": [
        "thresholds"
      ],
      "execution_count": 6,
      "outputs": [
        {
          "output_type": "execute_result",
          "data": {
            "text/plain": [
              "array([2.  , 1.  , 0.99, 0.97, 0.95, 0.93, 0.92, 0.91, 0.89, 0.88, 0.86,\n",
              "       0.85, 0.84, 0.82, 0.8 , 0.79, 0.77, 0.75, 0.74, 0.73, 0.71, 0.7 ,\n",
              "       0.69, 0.68, 0.67, 0.66, 0.64, 0.62, 0.4 , 0.35, 0.1 ])"
            ]
          },
          "metadata": {
            "tags": []
          },
          "execution_count": 6
        }
      ]
    },
    {
      "cell_type": "code",
      "metadata": {
        "id": "jZC5kbZJbEEY",
        "colab_type": "code",
        "colab": {
          "base_uri": "https://localhost:8080/",
          "height": 34
        },
        "outputId": "c0756385-5687-4f30-813a-c065c7c93f57"
      },
      "source": [
        "roc_auc = auc(fpr, tpr)\n",
        "roc_auc"
      ],
      "execution_count": 7,
      "outputs": [
        {
          "output_type": "execute_result",
          "data": {
            "text/plain": [
              "0.378754171301446"
            ]
          },
          "metadata": {
            "tags": []
          },
          "execution_count": 7
        }
      ]
    },
    {
      "cell_type": "code",
      "metadata": {
        "id": "AOUbuJDzbPdh",
        "colab_type": "code",
        "colab": {
          "base_uri": "https://localhost:8080/",
          "height": 34
        },
        "outputId": "309b6360-1637-4abc-abad-688ecf6864ed"
      },
      "source": [
        "fpr_micro, tpr_micro, _ = roc_curve(y_test.ravel(), y_score.ravel(), pos_label = 2)\n",
        "roc_auc_micro = auc(fpr_micro, tpr_micro)\n",
        "roc_auc_micro"
      ],
      "execution_count": 8,
      "outputs": [
        {
          "output_type": "execute_result",
          "data": {
            "text/plain": [
              "0.378754171301446"
            ]
          },
          "metadata": {
            "tags": []
          },
          "execution_count": 8
        }
      ]
    },
    {
      "cell_type": "code",
      "metadata": {
        "id": "vLdgdhVobwvn",
        "colab_type": "code",
        "colab": {
          "base_uri": "https://localhost:8080/",
          "height": 295
        },
        "outputId": "76e558a6-71b7-43bc-b1f0-7024643aea16"
      },
      "source": [
        "plt.figure()\n",
        "\n",
        "plt.plot(fpr, tpr, color='darkorange', label='ROC curve ')\n",
        "    \n",
        "plt.plot([0, 1], [0, 1], 'k--')\n",
        "plt.xlim([0.0, 1.0])\n",
        "plt.ylim([0.0, 1.05])\n",
        "plt.xlabel('Taxa de Falso Positivo')\n",
        "plt.ylabel('Taxa de Verdadeiro Positivo')\n",
        "plt.title('Curva ROC')\n",
        "plt.legend(loc=\"lower right\")\n",
        "plt.show()"
      ],
      "execution_count": 10,
      "outputs": [
        {
          "output_type": "display_data",
          "data": {
            "image/png": "[encoded data removed]",
            "text/plain": [
              "<Figure size 432x288 with 1 Axes>"
            ]
          },
          "metadata": {
            "tags": []
          }
        }
      ]
    },
    {
      "cell_type": "code",
      "metadata": {
        "id": "iney-Y2Fb5oF",
        "colab_type": "code",
        "colab": {}
      },
      "source": [
        "# fpr = dict()\n",
        "# tpr = dict()\n",
        "# roc_auc = dict()\n",
        "# for i in range(n_classes):\n",
        "#     fpr[i], tpr[i], _ = roc_curve(y_test[:, i], y_score[:, i])\n",
        "#     roc_auc[i] = auc(fpr[i], tpr[i])\n",
        "# all_fpr = np.unique(np.concatenate([fpr[i] for i in range(n_classes)]))\n",
        "\n",
        "\n",
        "# mean_tpr = np.zeros_like(all_fpr)\n",
        "# for i in range(n_classes):\n",
        "#     mean_tpr += interp(all_fpr, fpr[i], tpr[i])\n",
        "\n",
        "\n",
        "# mean_tpr /= n_classes\n",
        "\n",
        "# fpr[\"macro\"] = all_fpr\n",
        "# tpr[\"macro\"] = mean_tpr\n",
        "# roc_auc[\"macro\"] = auc(fpr[\"macro\"], tpr[\"macro\"])\n",
        "\n",
        "# plt.figure()\n",
        "\n",
        "# plt.plot(fpr[\"macro\"], tpr[\"macro\"],\n",
        "#          label='macro-average ROC curve (area = {0:0.2f})'\n",
        "#                ''.format(roc_auc[\"macro\"]),\n",
        "#          color='navy', linestyle=':', linewidth=4)\n",
        "\n",
        "# colors = cycle(['aqua', 'darkorange', 'cornflowerblue'])\n",
        "# for i, color in zip(range(n_classes), colors):\n",
        "#     plt.plot(fpr[i], tpr[i], color=color,\n",
        "#              label='ROC curve of class {0} (area = {1:0.2f})'\n",
        "#              ''.format(i, roc_auc[i]))\n",
        "\n",
        "# plt.plot([0, 1], [0, 1], 'k--')\n",
        "# plt.xlim([0.0, 1.0])\n",
        "# plt.ylim([0.0, 1.05])\n",
        "# plt.xlabel('Taxa de Falso Positivo')\n",
        "# plt.ylabel('Taxa de Verdadeiro Positivo')\n",
        "# plt.title('Curva ROC')\n",
        "# plt.legend(loc=\"lower right\")\n",
        "# plt.show()"
      ],
      "execution_count": 0,
      "outputs": []
    },
    {
      "cell_type": "code",
      "metadata": {
        "id": "mEXnGwg1c31I",
        "colab_type": "code",
        "colab": {}
      },
      "source": [
        ""
      ],
      "execution_count": 0,
      "outputs": []
    }
  ]
}